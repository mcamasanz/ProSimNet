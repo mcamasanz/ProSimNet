{
 "cells": [
  {
   "cell_type": "code",
   "execution_count": 3,
   "id": "1c7113dd",
   "metadata": {},
   "outputs": [
    {
     "ename": "SyntaxError",
     "evalue": "invalid syntax (adsColumnLibs.py, line 723)",
     "output_type": "error",
     "traceback": [
      "Traceback \u001b[1;36m(most recent call last)\u001b[0m:\n",
      "\u001b[0m  File \u001b[0;32mC:\\ProgramData\\anaconda3\\Lib\\site-packages\\IPython\\core\\interactiveshell.py:3505\u001b[0m in \u001b[0;35mrun_code\u001b[0m\n    exec(code_obj, self.user_global_ns, self.user_ns)\u001b[0m\n",
      "\u001b[0m  Cell \u001b[0;32mIn[3], line 11\u001b[0m\n    from configUnits import *\u001b[0m\n",
      "\u001b[1;36m  File \u001b[1;32m~\\OneDrive - Fundacion CIRCE\\Escritorio\\github\\ProSimNet\\examples\\configUnits.py:18\u001b[1;36m\n\u001b[1;33m    from adsColumnLibs import AdsorptionColumn\u001b[1;36m\n",
      "\u001b[1;36m  File \u001b[1;32m~\\OneDrive - Fundacion CIRCE\\Escritorio\\github\\ProSimNet\\libs\\adsColumnLibs.py:723\u001b[1;36m\u001b[0m\n\u001b[1;33m    self._state_properties['rho'] =\u001b[0m\n\u001b[1;37m                                   ^\u001b[0m\n\u001b[1;31mSyntaxError\u001b[0m\u001b[1;31m:\u001b[0m invalid syntax\n"
     ]
    }
   ],
   "source": [
    "import sys, os\n",
    "import numpy as np\n",
    "from pprint import pprint\n",
    "\n",
    "\n",
    "ruta_libs = os.path.abspath(\"../libs\")\n",
    "if ruta_libs not in sys.path:\n",
    "    sys.path.append(ruta_libs)\n",
    "\n",
    "from networkLibs import *\n",
    "from configUnits import *"
   ]
  },
  {
   "cell_type": "code",
   "execution_count": 5,
   "id": "63d993f1",
   "metadata": {},
   "outputs": [],
   "source": []
  },
  {
   "cell_type": "code",
   "execution_count": 3,
   "id": "ccb5eb77",
   "metadata": {},
   "outputs": [],
   "source": []
  },
  {
   "cell_type": "code",
   "execution_count": 2,
   "id": "772e82e4",
   "metadata": {},
   "outputs": [
    {
     "ename": "NameError",
     "evalue": "name 'adsColumn_1' is not defined",
     "output_type": "error",
     "traceback": [
      "\u001b[1;31m---------------------------------------------------------------------------\u001b[0m",
      "\u001b[1;31mNameError\u001b[0m                                 Traceback (most recent call last)",
      "Cell \u001b[1;32mIn[2], line 1\u001b[0m\n\u001b[1;32m----> 1\u001b[0m adsColumn_1\u001b[38;5;241m.\u001b[39m_state_vars[\u001b[38;5;124m\"\u001b[39m\u001b[38;5;124mx\u001b[39m\u001b[38;5;124m\"\u001b[39m]\u001b[38;5;241m.\u001b[39mreshape(\u001b[38;5;241m12\u001b[39m,\u001b[38;5;241m4\u001b[39m)\n",
      "\u001b[1;31mNameError\u001b[0m: name 'adsColumn_1' is not defined"
     ]
    }
   ],
   "source": [
    "adsColumn_1._state_vars[\"x\"].reshape(12,4)"
   ]
  },
  {
   "cell_type": "code",
   "execution_count": null,
   "id": "7f55b500",
   "metadata": {},
   "outputs": [],
   "source": []
  }
 ],
 "metadata": {
  "kernelspec": {
   "display_name": "Python 3 (ipykernel)",
   "language": "python",
   "name": "python3"
  },
  "language_info": {
   "codemirror_mode": {
    "name": "ipython",
    "version": 3
   },
   "file_extension": ".py",
   "mimetype": "text/x-python",
   "name": "python",
   "nbconvert_exporter": "python",
   "pygments_lexer": "ipython3",
   "version": "3.11.4"
  }
 },
 "nbformat": 4,
 "nbformat_minor": 5
}
