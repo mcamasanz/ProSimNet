{
 "cells": [
  {
   "cell_type": "code",
   "execution_count": 1,
   "id": "1c7113dd",
   "metadata": {},
   "outputs": [
    {
     "data": {
      "text/html": [
       "<style>.container { width:100% !important; }</style>"
      ],
      "text/plain": [
       "<IPython.core.display.HTML object>"
      ]
     },
     "metadata": {},
     "output_type": "display_data"
    }
   ],
   "source": [
    "import sys, os\n",
    "import numpy as np\n",
    "from pprint import pprint\n",
    "import time\n",
    "from IPython.display import display, HTML\n",
    "display(HTML(\"<style>.container { width:100% !important; }</style>\"))\n",
    "\n",
    "ruta_libs = os.path.abspath(\"../../libs\")\n",
    "if ruta_libs not in sys.path:\n",
    "    sys.path.append(ruta_libs)\n",
    "\n",
    "from networkLibs import *\n",
    "from configUnits import *\n",
    "from commonLibs import _mwMix_,_rhoMix_,_muMix_,_cpMix_,_kMix_,_propGas_,_set_propertyTable_,_get_propertyTable_,_get_propertieMixture_"
   ]
  },
  {
   "cell_type": "code",
   "execution_count": 2,
   "id": "a4503e3e",
   "metadata": {},
   "outputs": [],
   "source": [
    "adsColumn_1._initialize_()"
   ]
  },
  {
   "cell_type": "code",
   "execution_count": 3,
   "id": "08170cb2",
   "metadata": {},
   "outputs": [
    {
     "data": {
      "text/plain": [
       "{'t': 0.0,\n",
       " 'N': array([4.0872058, 4.0872058, 4.0872058, 4.0872058, 4.0872058, 4.0872058,\n",
       "        4.0872058, 4.0872058, 4.0872058, 4.0872058]),\n",
       " 'v': array([0.00145683, 0.00145683, 0.00145683, 0.00145683, 0.00145683,\n",
       "        0.00145683, 0.00145683, 0.00145683, 0.00145683, 0.00145683]),\n",
       " 'P': array([350000., 350000., 350000., 350000., 350000., 350000., 350000.,\n",
       "        350000., 350000., 350000.]),\n",
       " 'Tg': array([298., 298., 298., 298., 298., 298., 298., 298., 298., 298.]),\n",
       " 'Ts': array([298., 298., 298., 298., 298., 298., 298., 298., 298., 298.]),\n",
       " 'x': array([0.55, 0.25, 0.15, 0.05, 0.55, 0.25, 0.15, 0.05, 0.55, 0.25, 0.15,\n",
       "        0.05, 0.55, 0.25, 0.15, 0.05, 0.55, 0.25, 0.15, 0.05, 0.55, 0.25,\n",
       "        0.15, 0.05, 0.55, 0.25, 0.15, 0.05, 0.55, 0.25, 0.15, 0.05, 0.55,\n",
       "        0.25, 0.15, 0.05, 0.55, 0.25, 0.15, 0.05]),\n",
       " 'q': array([0.        , 0.        , 0.        , 0.        , 0.        ,\n",
       "        0.        , 0.        , 0.        , 0.00218422, 0.        ,\n",
       "        0.        , 0.        , 0.00218424, 0.        , 0.        ,\n",
       "        0.        , 0.00218413, 0.        , 0.        , 0.        ,\n",
       "        0.00218413, 0.        , 0.        , 0.        , 0.00218424,\n",
       "        0.        , 0.        , 0.        , 0.00218424, 0.        ,\n",
       "        0.        , 0.        , 0.        , 0.        , 0.        ,\n",
       "        0.        , 0.        , 0.        , 0.        , 0.        ])}"
      ]
     },
     "execution_count": 3,
     "metadata": {},
     "output_type": "execute_result"
    }
   ],
   "source": [
    "adsColumn_1._state_cell_vars"
   ]
  },
  {
   "cell_type": "code",
   "execution_count": 37,
   "id": "180e9998",
   "metadata": {},
   "outputs": [
    {
     "data": {
      "text/plain": [
       "array([[1., 0., 0., 0.],\n",
       "       [1., 0., 0., 0.],\n",
       "       [1., 0., 0., 0.],\n",
       "       [1., 0., 0., 0.],\n",
       "       [1., 0., 0., 0.],\n",
       "       [1., 0., 0., 0.],\n",
       "       [1., 0., 0., 0.],\n",
       "       [1., 0., 0., 0.],\n",
       "       [1., 0., 0., 0.],\n",
       "       [1., 0., 0., 0.]])"
      ]
     },
     "execution_count": 37,
     "metadata": {},
     "output_type": "execute_result"
    }
   ],
   "source": [
    "nodos=adsColumn_1._nodos\n",
    "ncomp=adsColumn_1._ncomp\n",
    "x=adsColumn_1._state_cell_vars['x'].reshape(nodos,ncomp)\n",
    "T=adsColumn_1._state_cell_vars['Tg']\n",
    "P=adsColumn_1._state_cell_vars['P']\n",
    "species=adsColumn_1._species\n",
    "MW=adsColumn_1._MW\n",
    "mu=adsColumn_1._mu\n",
    "k=adsColumn_1._K\n",
    "cpg=adsColumn_1._cpg\n",
    "cpg2=adsColumn_1._cpg2\n",
    "sigma_A = adsColumn_1._sigmaLJ\n",
    "epskB_A=adsColumn_1._epskB\n",
    "T_range = adsColumn_1._T_range\n",
    "P_range = adsColumn_1._P_range\n",
    "data = adsColumn_1._prop_table\n",
    "summary =  adsColumn_1._prop_summary\n",
    "x"
   ]
  },
  {
   "cell_type": "code",
   "execution_count": 29,
   "id": "d2d6afcc",
   "metadata": {},
   "outputs": [
    {
     "name": "stdout",
     "output_type": "stream",
     "text": [
      "Tiempo de ejecución: 0.0025 segundos\n",
      "Tiempo de ejecución: 0.1554 segundos\n",
      "Tiempo de ejecución: 0.0602 segundos\n"
     ]
    }
   ],
   "source": [
    "t0 = time.time()\n",
    "MW1  = _mwMix_(x, MW)                 # [n]\n",
    "rho1    = _rhoMix_(P, T, MW1)                    # [n]\n",
    "mu1     = _muMix_(x, mu, MW)       # [n]\n",
    "cp_molar1   = _cpMix_(x, cpg)                # molar \n",
    "cp_mass1     = _cpMix_(x, cpg2)               # MASA \n",
    "k1      = _kMix_(x, k, MW)      \n",
    "t1 = time.time()\n",
    "print(f\"Tiempo de ejecución: {t1 - t0:.4f} segundos\")\n",
    "\n",
    "t0 = time.time()\n",
    "MW2,rho2,mu2,cp2,k2=_propGas_(P,T,x,species)\n",
    "t1 = time.time()\n",
    "print(f\"Tiempo de ejecución: {t1 - t0:.4f} segundos\")\n",
    "\n",
    "t0 = time.time()\n",
    "MW3  = _mwMix_(x, MW)                 # [n]\n",
    "rho3 = _get_propertieMixture_(data, summary, species, 'rho', T, P, x, T_range, P_range)\n",
    "mu3 = _get_propertieMixture_(data, summary, species, 'mu', T, P, x, T_range, P_range)\n",
    "cp3 = _get_propertieMixture_(data, summary, species, 'Cp', T, P, x, T_range, P_range)\n",
    "k3  = _get_propertieMixture_(data, summary, species, 'k', T, P, x, T_range, P_range)\n",
    "t1 = time.time()\n",
    "print(f\"Tiempo de ejecución: {t1 - t0:.4f} segundos\")\n"
   ]
  },
  {
   "cell_type": "code",
   "execution_count": 30,
   "id": "785de9ca",
   "metadata": {},
   "outputs": [
    {
     "data": {
      "text/plain": [
       "(array([6.21716846, 6.21716846, 6.21716846, 6.21716846, 6.21716846,\n",
       "        6.21716846, 6.21716846, 6.21716846, 6.21716846, 6.21716846]),\n",
       " array([6.21675897, 6.21675897, 6.21675897, 6.21675897, 6.21675897,\n",
       "        6.21675897, 6.21675897, 6.21675897, 6.21675897, 6.21675897]),\n",
       " array([6.21676889, 6.21676889, 6.21676889, 6.21676889, 6.21676889,\n",
       "        6.21676889, 6.21676889, 6.21676889, 6.21676889, 6.21676889]))"
      ]
     },
     "execution_count": 30,
     "metadata": {},
     "output_type": "execute_result"
    }
   ],
   "source": [
    "rho1,rho2,rho3"
   ]
  },
  {
   "cell_type": "code",
   "execution_count": 31,
   "id": "832dbb58",
   "metadata": {},
   "outputs": [
    {
     "data": {
      "text/plain": [
       "(array([1.37e-05, 1.37e-05, 1.37e-05, 1.37e-05, 1.37e-05, 1.37e-05,\n",
       "        1.37e-05, 1.37e-05, 1.37e-05, 1.37e-05]),\n",
       " array([1.49074353e-05, 1.49074353e-05, 1.49074353e-05, 1.49074353e-05,\n",
       "        1.49074353e-05, 1.49074353e-05, 1.49074353e-05, 1.49074353e-05,\n",
       "        1.49074353e-05, 1.49074353e-05]),\n",
       " array([1.49074335e-05, 1.49074335e-05, 1.49074335e-05, 1.49074335e-05,\n",
       "        1.49074335e-05, 1.49074335e-05, 1.49074335e-05, 1.49074335e-05,\n",
       "        1.49074335e-05, 1.49074335e-05]))"
      ]
     },
     "execution_count": 31,
     "metadata": {},
     "output_type": "execute_result"
    }
   ],
   "source": [
    "mu1,mu2,mu3"
   ]
  },
  {
   "cell_type": "code",
   "execution_count": 32,
   "id": "0dd910f4",
   "metadata": {},
   "outputs": [
    {
     "data": {
      "text/plain": [
       "(array([840.37, 840.37, 840.37, 840.37, 840.37, 840.37, 840.37, 840.37,\n",
       "        840.37, 840.37]),\n",
       " array([843.7704343, 843.7704343, 843.7704343, 843.7704343, 843.7704343,\n",
       "        843.7704343, 843.7704343, 843.7704343, 843.7704343, 843.7704343]),\n",
       " array([843.77028937, 843.77028937, 843.77028937, 843.77028937,\n",
       "        843.77028937, 843.77028937, 843.77028937, 843.77028937,\n",
       "        843.77028937, 843.77028937]))"
      ]
     },
     "execution_count": 32,
     "metadata": {},
     "output_type": "execute_result"
    }
   ],
   "source": [
    "cp_mass1,cp2,cp3"
   ]
  },
  {
   "cell_type": "code",
   "execution_count": 33,
   "id": "3f2a8447",
   "metadata": {},
   "outputs": [
    {
     "data": {
      "text/plain": [
       "(array([0.0145, 0.0145, 0.0145, 0.0145, 0.0145, 0.0145, 0.0145, 0.0145,\n",
       "        0.0145, 0.0145]),\n",
       " array([0.01662107, 0.01662107, 0.01662107, 0.01662107, 0.01662107,\n",
       "        0.01662107, 0.01662107, 0.01662107, 0.01662107, 0.01662107]),\n",
       " array([0.01676568, 0.01676568, 0.01676568, 0.01676568, 0.01676568,\n",
       "        0.01676568, 0.01676568, 0.01676568, 0.01676568, 0.01676568]))"
      ]
     },
     "execution_count": 33,
     "metadata": {},
     "output_type": "execute_result"
    }
   ],
   "source": [
    "k1,k2,k3"
   ]
  },
  {
   "cell_type": "code",
   "execution_count": 36,
   "id": "b85a343a",
   "metadata": {},
   "outputs": [
    {
     "data": {
      "text/plain": [
       "array([[1., 0., 0., 0.],\n",
       "       [1., 0., 0., 0.],\n",
       "       [1., 0., 0., 0.],\n",
       "       [1., 0., 0., 0.],\n",
       "       [1., 0., 0., 0.],\n",
       "       [1., 0., 0., 0.],\n",
       "       [1., 0., 0., 0.],\n",
       "       [1., 0., 0., 0.],\n",
       "       [1., 0., 0., 0.],\n",
       "       [1., 0., 0., 0.]])"
      ]
     },
     "execution_count": 36,
     "metadata": {},
     "output_type": "execute_result"
    }
   ],
   "source": [
    "\n",
    "x"
   ]
  },
  {
   "cell_type": "code",
   "execution_count": 35,
   "id": "d6a685b8",
   "metadata": {},
   "outputs": [
    {
     "data": {
      "text/plain": [
       "['CO2', 'CO', 'O2', 'N2']"
      ]
     },
     "execution_count": 35,
     "metadata": {},
     "output_type": "execute_result"
    }
   ],
   "source": [
    "species"
   ]
  },
  {
   "cell_type": "code",
   "execution_count": null,
   "id": "6445ed66",
   "metadata": {},
   "outputs": [],
   "source": []
  },
  {
   "cell_type": "code",
   "execution_count": null,
   "id": "17488891",
   "metadata": {},
   "outputs": [],
   "source": []
  },
  {
   "cell_type": "code",
   "execution_count": null,
   "id": "3f1379c4",
   "metadata": {},
   "outputs": [],
   "source": []
  }
 ],
 "metadata": {
  "kernelspec": {
   "display_name": "Python 3 (ipykernel)",
   "language": "python",
   "name": "python3"
  },
  "language_info": {
   "codemirror_mode": {
    "name": "ipython",
    "version": 3
   },
   "file_extension": ".py",
   "mimetype": "text/x-python",
   "name": "python",
   "nbconvert_exporter": "python",
   "pygments_lexer": "ipython3",
   "version": "3.11.4"
  }
 },
 "nbformat": 4,
 "nbformat_minor": 5
}
